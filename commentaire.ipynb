{
  "nbformat": 4,
  "nbformat_minor": 0,
  "metadata": {
    "colab": {
      "provenance": [],
      "mount_file_id": "1GNHkGeU7OFtB37dq5nHeYWkMWipNmwii",
      "authorship_tag": "ABX9TyO5AIUZM95pb/7y1c05PBRn"
    },
    "kernelspec": {
      "name": "python3",
      "display_name": "Python 3"
    },
    "language_info": {
      "name": "python"
    }
  },
  "cells": [
    {
      "cell_type": "markdown",
      "source": [
        "# **DETECTION DE COMMENTAIRES INDESIRABLES**"
      ],
      "metadata": {
        "id": "l-0eAKvdN9lt"
      }
    },
    {
      "cell_type": "markdown",
      "source": [
        "# **1. Introduction**\n",
        "\n",
        "Le spam, ou courrier indésirable, est un problème omniprésent dans les communications numériques modernes, affectant les e-mails, les messages SMS, et même les plateformes de réseaux sociaux. Ces messages perturbent les utilisateurs, encombrent les systèmes et, parfois, servent de vecteurs pour des attaques malveillantes. L'utilisation de techniques avancées en traitement du langage naturel (NLP) permet de détecter et de filtrer ces messages avec une précision croissante."
      ],
      "metadata": {
        "id": "u8JW_vUxOHnT"
      }
    },
    {
      "cell_type": "markdown",
      "source": [
        "# **2. Problématique**\n",
        "\n",
        "Avec l'évolution des stratégies des spammeurs, comment concevoir un modèle NLP capable de distinguer efficacement les messages pertinents des spams tout en s'adaptant aux nouveaux types de contenu indésirable ?"
      ],
      "metadata": {
        "id": "7a_EMAJCOMVO"
      }
    },
    {
      "cell_type": "markdown",
      "source": [
        "# **3. Motivation**\n",
        "\n",
        "La détection efficace de spam améliore non seulement l'expérience utilisateur mais renforce également la sécurité des systèmes de communication. Un tel projet permet de se familiariser avec des outils et des techniques essentiels en apprentissage automatique et NLP, tout en ayant un impact concret."
      ],
      "metadata": {
        "id": "yzc_P4G6T8Ci"
      }
    },
    {
      "cell_type": "code",
      "execution_count": null,
      "metadata": {
        "colab": {
          "base_uri": "https://localhost:8080/"
        },
        "id": "ZvFquoj3z6Yp",
        "outputId": "f9f7ff7e-537f-4cab-f723-6cbfca4560cd"
      },
      "outputs": [
        {
          "output_type": "stream",
          "name": "stdout",
          "text": [
            "Mounted at /content/drive\n"
          ]
        }
      ],
      "source": [
        "from google.colab import drive\n",
        "drive.mount('/content/drive')"
      ]
    },
    {
      "cell_type": "markdown",
      "source": [
        "**Importation des bibliothèques**"
      ],
      "metadata": {
        "id": "QVyj_ba1OoL1"
      }
    },
    {
      "cell_type": "code",
      "source": [
        "import pandas as pd\n",
        "import numpy as np\n",
        "import matplotlib.pyplot as plt\n",
        "import seaborn as sns\n",
        "import nltk\n",
        "from nltk.corpus import stopwords\n",
        "from nltk.tokenize import word_tokenize\n",
        "import string"
      ],
      "metadata": {
        "id": "WCQMtFNv0OyM"
      },
      "execution_count": null,
      "outputs": []
    },
    {
      "cell_type": "markdown",
      "source": [
        "# **4. Prétraitement et analyser un dataset**\n",
        "\n",
        "Il est à avoir que nous allons utiliser un dataset qui contient les commentaires\n",
        "des differents uilisateurs de Youtube et nous allons détecter les commentaires indésirables et désirables dans la variable indépendante rénomée **content**,\n",
        "qui sont classifier dans la variable **CLASS** qui est considéré comme notre **variable cilble**."
      ],
      "metadata": {
        "id": "kF3qf8RAORfk"
      }
    },
    {
      "cell_type": "code",
      "source": [
        "dataset = pd.concat([\n",
        "    pd.read_csv('/content/drive/MyDrive/Colab Notebooks/Knowledge/spam/Youtube01-Psy.csv'),\n",
        "    pd.read_csv('/content/drive/MyDrive/Colab Notebooks/Knowledge/spam/Youtube04-Eminem.csv'),\n",
        "    pd.read_csv('/content/drive/MyDrive/Colab Notebooks/Knowledge/spam/Youtube02-KatyPerry.csv'),\n",
        "    pd.read_csv('/content/drive/MyDrive/Colab Notebooks/Knowledge/spam/Youtube03-LMFAO.csv'),\n",
        "    pd.read_csv('/content/drive/MyDrive/Colab Notebooks/Knowledge/spam/Youtube05-Shakira.csv')\n",
        "])"
      ],
      "metadata": {
        "id": "2fg0yN330Ueg"
      },
      "execution_count": null,
      "outputs": []
    },
    {
      "cell_type": "code",
      "source": [
        "dataset"
      ],
      "metadata": {
        "colab": {
          "base_uri": "https://localhost:8080/",
          "height": 424
        },
        "id": "itkD72Nr1M-G",
        "outputId": "d050ed8e-e8e3-401a-ab8f-d737b1aca958"
      },
      "execution_count": null,
      "outputs": [
        {
          "output_type": "execute_result",
          "data": {
            "text/plain": [
              "                                      COMMENT_ID                AUTHOR  \\\n",
              "0    LZQPQhLyRh80UYxNuaDWhIGQYNQ96IuCg-AYWqNPjpU             Julius NM   \n",
              "1    LZQPQhLyRh_C2cTtd9MvFRJedxydaVW-2sNg5Diuo4A           adam riyati   \n",
              "2    LZQPQhLyRh9MSZYnf8djyk0gEF9BHDPYrrK-qCczIY8      Evgeny Murashkin   \n",
              "3            z13jhp0bxqncu512g22wvzkasxmvvzjaz04       ElNino Melendez   \n",
              "4            z13fwbwp1oujthgqj04chlngpvzmtt3r3dw                GsMega   \n",
              "..                                           ...                   ...   \n",
              "365  _2viQ_Qnc6-bMSjqyL1NKj57ROicCSJV5SwTrw-RFFA          Katie Mettam   \n",
              "366  _2viQ_Qnc6-pY-1yR6K2FhmC5i48-WuNx5CumlHLDAI  Sabina Pearson-Smith   \n",
              "367  _2viQ_Qnc6_k_n_Bse9zVhJP8tJReZpo8uM2uZfnzDs         jeffrey jules   \n",
              "368  _2viQ_Qnc6_yBt8UGMWyg3vh0PulTqcqyQtdE7d4Fl0        Aishlin Maciel   \n",
              "369  _2viQ_Qnc685RPw1aSa1tfrIuHXRvAQ2rPT9R06KTqA           Latin Bosch   \n",
              "\n",
              "                           DATE  \\\n",
              "0           2013-11-07T06:20:48   \n",
              "1           2013-11-07T12:37:15   \n",
              "2           2013-11-08T17:34:21   \n",
              "3           2013-11-09T08:28:43   \n",
              "4           2013-11-10T16:05:38   \n",
              "..                          ...   \n",
              "365  2013-07-13T13:27:39.441000   \n",
              "366  2013-07-13T13:14:30.021000   \n",
              "367  2013-07-13T12:09:31.188000   \n",
              "368  2013-07-13T11:17:52.308000   \n",
              "369  2013-07-12T22:33:27.916000   \n",
              "\n",
              "                                               CONTENT  CLASS  \n",
              "0    Huh, anyway check out this you[tube] channel: ...      1  \n",
              "1    Hey guys check out my new channel and our firs...      1  \n",
              "2               just for test I have to say murdev.com      1  \n",
              "3     me shaking my sexy ass on my channel enjoy ^_^ ﻿      1  \n",
              "4              watch?v=vtaRGgvGtWQ   Check this out .﻿      1  \n",
              "..                                                 ...    ...  \n",
              "365  I love this song because we sing it at Camp al...      0  \n",
              "366  I love this song for two reasons: 1.it is abou...      0  \n",
              "367                                                wow      0  \n",
              "368                            Shakira u are so wiredo      0  \n",
              "369                         Shakira is the best dancer      0  \n",
              "\n",
              "[1956 rows x 5 columns]"
            ],
            "text/html": [
              "\n",
              "  <div id=\"df-f6beb79f-58c7-4cba-bdb7-b76965f3fcd2\" class=\"colab-df-container\">\n",
              "    <div>\n",
              "<style scoped>\n",
              "    .dataframe tbody tr th:only-of-type {\n",
              "        vertical-align: middle;\n",
              "    }\n",
              "\n",
              "    .dataframe tbody tr th {\n",
              "        vertical-align: top;\n",
              "    }\n",
              "\n",
              "    .dataframe thead th {\n",
              "        text-align: right;\n",
              "    }\n",
              "</style>\n",
              "<table border=\"1\" class=\"dataframe\">\n",
              "  <thead>\n",
              "    <tr style=\"text-align: right;\">\n",
              "      <th></th>\n",
              "      <th>COMMENT_ID</th>\n",
              "      <th>AUTHOR</th>\n",
              "      <th>DATE</th>\n",
              "      <th>CONTENT</th>\n",
              "      <th>CLASS</th>\n",
              "    </tr>\n",
              "  </thead>\n",
              "  <tbody>\n",
              "    <tr>\n",
              "      <th>0</th>\n",
              "      <td>LZQPQhLyRh80UYxNuaDWhIGQYNQ96IuCg-AYWqNPjpU</td>\n",
              "      <td>Julius NM</td>\n",
              "      <td>2013-11-07T06:20:48</td>\n",
              "      <td>Huh, anyway check out this you[tube] channel: ...</td>\n",
              "      <td>1</td>\n",
              "    </tr>\n",
              "    <tr>\n",
              "      <th>1</th>\n",
              "      <td>LZQPQhLyRh_C2cTtd9MvFRJedxydaVW-2sNg5Diuo4A</td>\n",
              "      <td>adam riyati</td>\n",
              "      <td>2013-11-07T12:37:15</td>\n",
              "      <td>Hey guys check out my new channel and our firs...</td>\n",
              "      <td>1</td>\n",
              "    </tr>\n",
              "    <tr>\n",
              "      <th>2</th>\n",
              "      <td>LZQPQhLyRh9MSZYnf8djyk0gEF9BHDPYrrK-qCczIY8</td>\n",
              "      <td>Evgeny Murashkin</td>\n",
              "      <td>2013-11-08T17:34:21</td>\n",
              "      <td>just for test I have to say murdev.com</td>\n",
              "      <td>1</td>\n",
              "    </tr>\n",
              "    <tr>\n",
              "      <th>3</th>\n",
              "      <td>z13jhp0bxqncu512g22wvzkasxmvvzjaz04</td>\n",
              "      <td>ElNino Melendez</td>\n",
              "      <td>2013-11-09T08:28:43</td>\n",
              "      <td>me shaking my sexy ass on my channel enjoy ^_^ ﻿</td>\n",
              "      <td>1</td>\n",
              "    </tr>\n",
              "    <tr>\n",
              "      <th>4</th>\n",
              "      <td>z13fwbwp1oujthgqj04chlngpvzmtt3r3dw</td>\n",
              "      <td>GsMega</td>\n",
              "      <td>2013-11-10T16:05:38</td>\n",
              "      <td>watch?v=vtaRGgvGtWQ   Check this out .﻿</td>\n",
              "      <td>1</td>\n",
              "    </tr>\n",
              "    <tr>\n",
              "      <th>...</th>\n",
              "      <td>...</td>\n",
              "      <td>...</td>\n",
              "      <td>...</td>\n",
              "      <td>...</td>\n",
              "      <td>...</td>\n",
              "    </tr>\n",
              "    <tr>\n",
              "      <th>365</th>\n",
              "      <td>_2viQ_Qnc6-bMSjqyL1NKj57ROicCSJV5SwTrw-RFFA</td>\n",
              "      <td>Katie Mettam</td>\n",
              "      <td>2013-07-13T13:27:39.441000</td>\n",
              "      <td>I love this song because we sing it at Camp al...</td>\n",
              "      <td>0</td>\n",
              "    </tr>\n",
              "    <tr>\n",
              "      <th>366</th>\n",
              "      <td>_2viQ_Qnc6-pY-1yR6K2FhmC5i48-WuNx5CumlHLDAI</td>\n",
              "      <td>Sabina Pearson-Smith</td>\n",
              "      <td>2013-07-13T13:14:30.021000</td>\n",
              "      <td>I love this song for two reasons: 1.it is abou...</td>\n",
              "      <td>0</td>\n",
              "    </tr>\n",
              "    <tr>\n",
              "      <th>367</th>\n",
              "      <td>_2viQ_Qnc6_k_n_Bse9zVhJP8tJReZpo8uM2uZfnzDs</td>\n",
              "      <td>jeffrey jules</td>\n",
              "      <td>2013-07-13T12:09:31.188000</td>\n",
              "      <td>wow</td>\n",
              "      <td>0</td>\n",
              "    </tr>\n",
              "    <tr>\n",
              "      <th>368</th>\n",
              "      <td>_2viQ_Qnc6_yBt8UGMWyg3vh0PulTqcqyQtdE7d4Fl0</td>\n",
              "      <td>Aishlin Maciel</td>\n",
              "      <td>2013-07-13T11:17:52.308000</td>\n",
              "      <td>Shakira u are so wiredo</td>\n",
              "      <td>0</td>\n",
              "    </tr>\n",
              "    <tr>\n",
              "      <th>369</th>\n",
              "      <td>_2viQ_Qnc685RPw1aSa1tfrIuHXRvAQ2rPT9R06KTqA</td>\n",
              "      <td>Latin Bosch</td>\n",
              "      <td>2013-07-12T22:33:27.916000</td>\n",
              "      <td>Shakira is the best dancer</td>\n",
              "      <td>0</td>\n",
              "    </tr>\n",
              "  </tbody>\n",
              "</table>\n",
              "<p>1956 rows × 5 columns</p>\n",
              "</div>\n",
              "    <div class=\"colab-df-buttons\">\n",
              "\n",
              "  <div class=\"colab-df-container\">\n",
              "    <button class=\"colab-df-convert\" onclick=\"convertToInteractive('df-f6beb79f-58c7-4cba-bdb7-b76965f3fcd2')\"\n",
              "            title=\"Convert this dataframe to an interactive table.\"\n",
              "            style=\"display:none;\">\n",
              "\n",
              "  <svg xmlns=\"http://www.w3.org/2000/svg\" height=\"24px\" viewBox=\"0 -960 960 960\">\n",
              "    <path d=\"M120-120v-720h720v720H120Zm60-500h600v-160H180v160Zm220 220h160v-160H400v160Zm0 220h160v-160H400v160ZM180-400h160v-160H180v160Zm440 0h160v-160H620v160ZM180-180h160v-160H180v160Zm440 0h160v-160H620v160Z\"/>\n",
              "  </svg>\n",
              "    </button>\n",
              "\n",
              "  <style>\n",
              "    .colab-df-container {\n",
              "      display:flex;\n",
              "      gap: 12px;\n",
              "    }\n",
              "\n",
              "    .colab-df-convert {\n",
              "      background-color: #E8F0FE;\n",
              "      border: none;\n",
              "      border-radius: 50%;\n",
              "      cursor: pointer;\n",
              "      display: none;\n",
              "      fill: #1967D2;\n",
              "      height: 32px;\n",
              "      padding: 0 0 0 0;\n",
              "      width: 32px;\n",
              "    }\n",
              "\n",
              "    .colab-df-convert:hover {\n",
              "      background-color: #E2EBFA;\n",
              "      box-shadow: 0px 1px 2px rgba(60, 64, 67, 0.3), 0px 1px 3px 1px rgba(60, 64, 67, 0.15);\n",
              "      fill: #174EA6;\n",
              "    }\n",
              "\n",
              "    .colab-df-buttons div {\n",
              "      margin-bottom: 4px;\n",
              "    }\n",
              "\n",
              "    [theme=dark] .colab-df-convert {\n",
              "      background-color: #3B4455;\n",
              "      fill: #D2E3FC;\n",
              "    }\n",
              "\n",
              "    [theme=dark] .colab-df-convert:hover {\n",
              "      background-color: #434B5C;\n",
              "      box-shadow: 0px 1px 3px 1px rgba(0, 0, 0, 0.15);\n",
              "      filter: drop-shadow(0px 1px 2px rgba(0, 0, 0, 0.3));\n",
              "      fill: #FFFFFF;\n",
              "    }\n",
              "  </style>\n",
              "\n",
              "    <script>\n",
              "      const buttonEl =\n",
              "        document.querySelector('#df-f6beb79f-58c7-4cba-bdb7-b76965f3fcd2 button.colab-df-convert');\n",
              "      buttonEl.style.display =\n",
              "        google.colab.kernel.accessAllowed ? 'block' : 'none';\n",
              "\n",
              "      async function convertToInteractive(key) {\n",
              "        const element = document.querySelector('#df-f6beb79f-58c7-4cba-bdb7-b76965f3fcd2');\n",
              "        const dataTable =\n",
              "          await google.colab.kernel.invokeFunction('convertToInteractive',\n",
              "                                                    [key], {});\n",
              "        if (!dataTable) return;\n",
              "\n",
              "        const docLinkHtml = 'Like what you see? Visit the ' +\n",
              "          '<a target=\"_blank\" href=https://colab.research.google.com/notebooks/data_table.ipynb>data table notebook</a>'\n",
              "          + ' to learn more about interactive tables.';\n",
              "        element.innerHTML = '';\n",
              "        dataTable['output_type'] = 'display_data';\n",
              "        await google.colab.output.renderOutput(dataTable, element);\n",
              "        const docLink = document.createElement('div');\n",
              "        docLink.innerHTML = docLinkHtml;\n",
              "        element.appendChild(docLink);\n",
              "      }\n",
              "    </script>\n",
              "  </div>\n",
              "\n",
              "\n",
              "<div id=\"df-e5017075-f5e0-4a5c-aeab-18fd1c89d0cd\">\n",
              "  <button class=\"colab-df-quickchart\" onclick=\"quickchart('df-e5017075-f5e0-4a5c-aeab-18fd1c89d0cd')\"\n",
              "            title=\"Suggest charts\"\n",
              "            style=\"display:none;\">\n",
              "\n",
              "<svg xmlns=\"http://www.w3.org/2000/svg\" height=\"24px\"viewBox=\"0 0 24 24\"\n",
              "     width=\"24px\">\n",
              "    <g>\n",
              "        <path d=\"M19 3H5c-1.1 0-2 .9-2 2v14c0 1.1.9 2 2 2h14c1.1 0 2-.9 2-2V5c0-1.1-.9-2-2-2zM9 17H7v-7h2v7zm4 0h-2V7h2v10zm4 0h-2v-4h2v4z\"/>\n",
              "    </g>\n",
              "</svg>\n",
              "  </button>\n",
              "\n",
              "<style>\n",
              "  .colab-df-quickchart {\n",
              "      --bg-color: #E8F0FE;\n",
              "      --fill-color: #1967D2;\n",
              "      --hover-bg-color: #E2EBFA;\n",
              "      --hover-fill-color: #174EA6;\n",
              "      --disabled-fill-color: #AAA;\n",
              "      --disabled-bg-color: #DDD;\n",
              "  }\n",
              "\n",
              "  [theme=dark] .colab-df-quickchart {\n",
              "      --bg-color: #3B4455;\n",
              "      --fill-color: #D2E3FC;\n",
              "      --hover-bg-color: #434B5C;\n",
              "      --hover-fill-color: #FFFFFF;\n",
              "      --disabled-bg-color: #3B4455;\n",
              "      --disabled-fill-color: #666;\n",
              "  }\n",
              "\n",
              "  .colab-df-quickchart {\n",
              "    background-color: var(--bg-color);\n",
              "    border: none;\n",
              "    border-radius: 50%;\n",
              "    cursor: pointer;\n",
              "    display: none;\n",
              "    fill: var(--fill-color);\n",
              "    height: 32px;\n",
              "    padding: 0;\n",
              "    width: 32px;\n",
              "  }\n",
              "\n",
              "  .colab-df-quickchart:hover {\n",
              "    background-color: var(--hover-bg-color);\n",
              "    box-shadow: 0 1px 2px rgba(60, 64, 67, 0.3), 0 1px 3px 1px rgba(60, 64, 67, 0.15);\n",
              "    fill: var(--button-hover-fill-color);\n",
              "  }\n",
              "\n",
              "  .colab-df-quickchart-complete:disabled,\n",
              "  .colab-df-quickchart-complete:disabled:hover {\n",
              "    background-color: var(--disabled-bg-color);\n",
              "    fill: var(--disabled-fill-color);\n",
              "    box-shadow: none;\n",
              "  }\n",
              "\n",
              "  .colab-df-spinner {\n",
              "    border: 2px solid var(--fill-color);\n",
              "    border-color: transparent;\n",
              "    border-bottom-color: var(--fill-color);\n",
              "    animation:\n",
              "      spin 1s steps(1) infinite;\n",
              "  }\n",
              "\n",
              "  @keyframes spin {\n",
              "    0% {\n",
              "      border-color: transparent;\n",
              "      border-bottom-color: var(--fill-color);\n",
              "      border-left-color: var(--fill-color);\n",
              "    }\n",
              "    20% {\n",
              "      border-color: transparent;\n",
              "      border-left-color: var(--fill-color);\n",
              "      border-top-color: var(--fill-color);\n",
              "    }\n",
              "    30% {\n",
              "      border-color: transparent;\n",
              "      border-left-color: var(--fill-color);\n",
              "      border-top-color: var(--fill-color);\n",
              "      border-right-color: var(--fill-color);\n",
              "    }\n",
              "    40% {\n",
              "      border-color: transparent;\n",
              "      border-right-color: var(--fill-color);\n",
              "      border-top-color: var(--fill-color);\n",
              "    }\n",
              "    60% {\n",
              "      border-color: transparent;\n",
              "      border-right-color: var(--fill-color);\n",
              "    }\n",
              "    80% {\n",
              "      border-color: transparent;\n",
              "      border-right-color: var(--fill-color);\n",
              "      border-bottom-color: var(--fill-color);\n",
              "    }\n",
              "    90% {\n",
              "      border-color: transparent;\n",
              "      border-bottom-color: var(--fill-color);\n",
              "    }\n",
              "  }\n",
              "</style>\n",
              "\n",
              "  <script>\n",
              "    async function quickchart(key) {\n",
              "      const quickchartButtonEl =\n",
              "        document.querySelector('#' + key + ' button');\n",
              "      quickchartButtonEl.disabled = true;  // To prevent multiple clicks.\n",
              "      quickchartButtonEl.classList.add('colab-df-spinner');\n",
              "      try {\n",
              "        const charts = await google.colab.kernel.invokeFunction(\n",
              "            'suggestCharts', [key], {});\n",
              "      } catch (error) {\n",
              "        console.error('Error during call to suggestCharts:', error);\n",
              "      }\n",
              "      quickchartButtonEl.classList.remove('colab-df-spinner');\n",
              "      quickchartButtonEl.classList.add('colab-df-quickchart-complete');\n",
              "    }\n",
              "    (() => {\n",
              "      let quickchartButtonEl =\n",
              "        document.querySelector('#df-e5017075-f5e0-4a5c-aeab-18fd1c89d0cd button');\n",
              "      quickchartButtonEl.style.display =\n",
              "        google.colab.kernel.accessAllowed ? 'block' : 'none';\n",
              "    })();\n",
              "  </script>\n",
              "</div>\n",
              "\n",
              "  <div id=\"id_ec37ecc6-a3e0-4143-ad67-aae8c8efae85\">\n",
              "    <style>\n",
              "      .colab-df-generate {\n",
              "        background-color: #E8F0FE;\n",
              "        border: none;\n",
              "        border-radius: 50%;\n",
              "        cursor: pointer;\n",
              "        display: none;\n",
              "        fill: #1967D2;\n",
              "        height: 32px;\n",
              "        padding: 0 0 0 0;\n",
              "        width: 32px;\n",
              "      }\n",
              "\n",
              "      .colab-df-generate:hover {\n",
              "        background-color: #E2EBFA;\n",
              "        box-shadow: 0px 1px 2px rgba(60, 64, 67, 0.3), 0px 1px 3px 1px rgba(60, 64, 67, 0.15);\n",
              "        fill: #174EA6;\n",
              "      }\n",
              "\n",
              "      [theme=dark] .colab-df-generate {\n",
              "        background-color: #3B4455;\n",
              "        fill: #D2E3FC;\n",
              "      }\n",
              "\n",
              "      [theme=dark] .colab-df-generate:hover {\n",
              "        background-color: #434B5C;\n",
              "        box-shadow: 0px 1px 3px 1px rgba(0, 0, 0, 0.15);\n",
              "        filter: drop-shadow(0px 1px 2px rgba(0, 0, 0, 0.3));\n",
              "        fill: #FFFFFF;\n",
              "      }\n",
              "    </style>\n",
              "    <button class=\"colab-df-generate\" onclick=\"generateWithVariable('dataset')\"\n",
              "            title=\"Generate code using this dataframe.\"\n",
              "            style=\"display:none;\">\n",
              "\n",
              "  <svg xmlns=\"http://www.w3.org/2000/svg\" height=\"24px\"viewBox=\"0 0 24 24\"\n",
              "       width=\"24px\">\n",
              "    <path d=\"M7,19H8.4L18.45,9,17,7.55,7,17.6ZM5,21V16.75L18.45,3.32a2,2,0,0,1,2.83,0l1.4,1.43a1.91,1.91,0,0,1,.58,1.4,1.91,1.91,0,0,1-.58,1.4L9.25,21ZM18.45,9,17,7.55Zm-12,3A5.31,5.31,0,0,0,4.9,8.1,5.31,5.31,0,0,0,1,6.5,5.31,5.31,0,0,0,4.9,4.9,5.31,5.31,0,0,0,6.5,1,5.31,5.31,0,0,0,8.1,4.9,5.31,5.31,0,0,0,12,6.5,5.46,5.46,0,0,0,6.5,12Z\"/>\n",
              "  </svg>\n",
              "    </button>\n",
              "    <script>\n",
              "      (() => {\n",
              "      const buttonEl =\n",
              "        document.querySelector('#id_ec37ecc6-a3e0-4143-ad67-aae8c8efae85 button.colab-df-generate');\n",
              "      buttonEl.style.display =\n",
              "        google.colab.kernel.accessAllowed ? 'block' : 'none';\n",
              "\n",
              "      buttonEl.onclick = () => {\n",
              "        google.colab.notebook.generateWithVariable('dataset');\n",
              "      }\n",
              "      })();\n",
              "    </script>\n",
              "  </div>\n",
              "\n",
              "    </div>\n",
              "  </div>\n"
            ],
            "application/vnd.google.colaboratory.intrinsic+json": {
              "type": "dataframe",
              "variable_name": "dataset",
              "summary": "{\n  \"name\": \"dataset\",\n  \"rows\": 1956,\n  \"fields\": [\n    {\n      \"column\": \"COMMENT_ID\",\n      \"properties\": {\n        \"dtype\": \"string\",\n        \"num_unique_values\": 1953,\n        \"samples\": [\n          \"z135ihwjrofccvbzu04cehzp3prte5jyccg\",\n          \"z125zdpzksrzyt10m232x1cpcobdjduoo04\",\n          \"z122gn04syvfep31i22zd1xh1p2bul5g504\"\n        ],\n        \"semantic_type\": \"\",\n        \"description\": \"\"\n      }\n    },\n    {\n      \"column\": \"AUTHOR\",\n      \"properties\": {\n        \"dtype\": \"string\",\n        \"num_unique_values\": 1792,\n        \"samples\": [\n          \"M.E.S\",\n          \"Daniel Istrati\",\n          \"makayla Yarborough\"\n        ],\n        \"semantic_type\": \"\",\n        \"description\": \"\"\n      }\n    },\n    {\n      \"column\": \"DATE\",\n      \"properties\": {\n        \"dtype\": \"string\",\n        \"num_unique_values\": 1709,\n        \"samples\": [\n          \"2014-08-11T16:27:55\",\n          \"2014-07-22T16:54:45.949000\",\n          \"2015-05-18T10:56:12.254000\"\n        ],\n        \"semantic_type\": \"\",\n        \"description\": \"\"\n      }\n    },\n    {\n      \"column\": \"CONTENT\",\n      \"properties\": {\n        \"dtype\": \"string\",\n        \"num_unique_values\": 1760,\n        \"samples\": [\n          \"this is increidebl\\ufeff\",\n          \"People who believe in Illuminati are stupid the same people believe that  911 was made by the American government\\ufeff\",\n          \"good!!\"\n        ],\n        \"semantic_type\": \"\",\n        \"description\": \"\"\n      }\n    },\n    {\n      \"column\": \"CLASS\",\n      \"properties\": {\n        \"dtype\": \"number\",\n        \"std\": 0,\n        \"min\": 0,\n        \"max\": 1,\n        \"num_unique_values\": 2,\n        \"samples\": [\n          0,\n          1\n        ],\n        \"semantic_type\": \"\",\n        \"description\": \"\"\n      }\n    }\n  ]\n}"
            }
          },
          "metadata": {},
          "execution_count": 4
        }
      ]
    },
    {
      "cell_type": "code",
      "source": [
        "print(dataset.info())"
      ],
      "metadata": {
        "colab": {
          "base_uri": "https://localhost:8080/"
        },
        "id": "IW7oa8-j1XHi",
        "outputId": "5f408eab-d2ca-4ec1-f3e5-60a529f81fe6"
      },
      "execution_count": null,
      "outputs": [
        {
          "output_type": "stream",
          "name": "stdout",
          "text": [
            "<class 'pandas.core.frame.DataFrame'>\n",
            "Index: 1956 entries, 0 to 369\n",
            "Data columns (total 5 columns):\n",
            " #   Column      Non-Null Count  Dtype \n",
            "---  ------      --------------  ----- \n",
            " 0   COMMENT_ID  1956 non-null   object\n",
            " 1   AUTHOR      1956 non-null   object\n",
            " 2   DATE        1711 non-null   object\n",
            " 3   CONTENT     1956 non-null   object\n",
            " 4   CLASS       1956 non-null   int64 \n",
            "dtypes: int64(1), object(4)\n",
            "memory usage: 91.7+ KB\n",
            "None\n"
          ]
        }
      ]
    },
    {
      "cell_type": "code",
      "source": [
        "print(dataset.shape)"
      ],
      "metadata": {
        "colab": {
          "base_uri": "https://localhost:8080/"
        },
        "id": "hORjcvZL1gC6",
        "outputId": "b5bbc674-b857-4c40-d586-a7207b1a07f4"
      },
      "execution_count": null,
      "outputs": [
        {
          "output_type": "stream",
          "name": "stdout",
          "text": [
            "(1956, 5)\n"
          ]
        }
      ]
    },
    {
      "cell_type": "markdown",
      "source": [
        "**Observations des valeurs manquantes**"
      ],
      "metadata": {
        "id": "LesbBHylOfav"
      }
    },
    {
      "cell_type": "code",
      "source": [
        "dataset.isnull().any()"
      ],
      "metadata": {
        "colab": {
          "base_uri": "https://localhost:8080/",
          "height": 241
        },
        "id": "bzha_PuR1k_z",
        "outputId": "006f8d94-0875-4e38-8384-d1fa29cd78ad"
      },
      "execution_count": null,
      "outputs": [
        {
          "output_type": "execute_result",
          "data": {
            "text/plain": [
              "COMMENT_ID    False\n",
              "AUTHOR        False\n",
              "DATE           True\n",
              "CONTENT       False\n",
              "CLASS         False\n",
              "dtype: bool"
            ],
            "text/html": [
              "<div>\n",
              "<style scoped>\n",
              "    .dataframe tbody tr th:only-of-type {\n",
              "        vertical-align: middle;\n",
              "    }\n",
              "\n",
              "    .dataframe tbody tr th {\n",
              "        vertical-align: top;\n",
              "    }\n",
              "\n",
              "    .dataframe thead th {\n",
              "        text-align: right;\n",
              "    }\n",
              "</style>\n",
              "<table border=\"1\" class=\"dataframe\">\n",
              "  <thead>\n",
              "    <tr style=\"text-align: right;\">\n",
              "      <th></th>\n",
              "      <th>0</th>\n",
              "    </tr>\n",
              "  </thead>\n",
              "  <tbody>\n",
              "    <tr>\n",
              "      <th>COMMENT_ID</th>\n",
              "      <td>False</td>\n",
              "    </tr>\n",
              "    <tr>\n",
              "      <th>AUTHOR</th>\n",
              "      <td>False</td>\n",
              "    </tr>\n",
              "    <tr>\n",
              "      <th>DATE</th>\n",
              "      <td>True</td>\n",
              "    </tr>\n",
              "    <tr>\n",
              "      <th>CONTENT</th>\n",
              "      <td>False</td>\n",
              "    </tr>\n",
              "    <tr>\n",
              "      <th>CLASS</th>\n",
              "      <td>False</td>\n",
              "    </tr>\n",
              "  </tbody>\n",
              "</table>\n",
              "</div><br><label><b>dtype:</b> bool</label>"
            ]
          },
          "metadata": {},
          "execution_count": 7
        }
      ]
    },
    {
      "cell_type": "code",
      "source": [
        "print(dataset['CLASS'].value_counts())"
      ],
      "metadata": {
        "colab": {
          "base_uri": "https://localhost:8080/"
        },
        "id": "DhL0HT1e1p6z",
        "outputId": "b024d49b-c809-432d-ac42-ba25db5574b9"
      },
      "execution_count": null,
      "outputs": [
        {
          "output_type": "stream",
          "name": "stdout",
          "text": [
            "CLASS\n",
            "1    1005\n",
            "0     951\n",
            "Name: count, dtype: int64\n"
          ]
        }
      ]
    },
    {
      "cell_type": "markdown",
      "source": [
        "**Nous affichons la répartition de la variable Cible CLASS :**\n",
        "\n",
        "▶ **1 Commentaire Indésirable**\n",
        "\n",
        "▶ **0 Commentaires désirables**"
      ],
      "metadata": {
        "id": "tHpJkGWuPGaz"
      }
    },
    {
      "cell_type": "code",
      "source": [
        "import matplotlib.pyplot as plt\n",
        "\n",
        "print(dataset['CLASS'].value_counts())\n",
        "\n",
        "# Comptage des valeurs uniques dans la colonne CLASS\n",
        "value_counts = dataset['CLASS'].value_counts()\n",
        "\n",
        "# Création du diagramme à secteurs\n",
        "plt.figure(figsize=(8, 8))\n",
        "value_counts.plot.pie(autopct='%1.1f%%', startangle=90, cmap='viridis')\n",
        "plt.title('Répartition des commentaires dans CLASS')\n",
        "plt.ylabel('')  # Pour ne pas afficher le label de l'axe Y\n",
        "plt.show()"
      ],
      "metadata": {
        "colab": {
          "base_uri": "https://localhost:8080/",
          "height": 744
        },
        "id": "jmop95Zt1tz6",
        "outputId": "b45a3ae0-6357-4844-facb-0f34a057696f"
      },
      "execution_count": null,
      "outputs": [
        {
          "output_type": "stream",
          "name": "stdout",
          "text": [
            "CLASS\n",
            "1    1005\n",
            "0     951\n",
            "Name: count, dtype: int64\n"
          ]
        },
        {
          "output_type": "display_data",
          "data": {
            "text/plain": [
              "<Figure size 800x800 with 1 Axes>"
            ],
            "image/png": "[encoded data removed]"
          },
          "metadata": {}
        }
      ]
    },
    {
      "cell_type": "markdown",
      "source": [
        "**Statistiques descriptives sur la longueur des commentaires**"
      ],
      "metadata": {
        "id": "E5aI09_HPMpr"
      }
    },
    {
      "cell_type": "code",
      "source": [
        "# Longueur des messages (analyse descriptive)\n",
        "dataset['message_length'] = dataset['CONTENT'].apply(len)  # Remplacez 'text' par le nom de la colonne des messages\n",
        "print(\"\\nStatistiques descriptives sur la longueur des messages :\")\n",
        "print(dataset['message_length'].describe())"
      ],
      "metadata": {
        "colab": {
          "base_uri": "https://localhost:8080/"
        },
        "id": "vBrpos0v10iz",
        "outputId": "2a5e266d-dd09-4936-8112-e262dd5bcbf8"
      },
      "execution_count": null,
      "outputs": [
        {
          "output_type": "stream",
          "name": "stdout",
          "text": [
            "\n",
            "Statistiques descriptives sur la longueur des messages :\n",
            "count    1956.000000\n",
            "mean       94.700920\n",
            "std       128.222062\n",
            "min         2.000000\n",
            "25%        29.000000\n",
            "50%        48.000000\n",
            "75%        97.000000\n",
            "max      1200.000000\n",
            "Name: message_length, dtype: float64\n"
          ]
        }
      ]
    },
    {
      "cell_type": "markdown",
      "source": [
        "# **5. Segmentation de texte**\n",
        "\n",
        "▶ **Normalisation des Textes :**\n",
        "\n",
        "▶ **Conversion des textes en minuscules pour uniformiser.**\n",
        "\n",
        "▶ **Suppression des caractères spéciaux, nombres, et ponctuations inutiles**\n",
        "\n",
        "▶ **Tokenisation : Lemmanization ou Stemming**"
      ],
      "metadata": {
        "id": "7lI13IMyPRp7"
      }
    },
    {
      "cell_type": "code",
      "source": [
        "import nltk\n",
        "from nltk.corpus import stopwords\n",
        "from nltk.tokenize import word_tokenize\n",
        "import string\n",
        "\n",
        "# Download the necessary NLTK data\n",
        "nltk.download('punkt')\n",
        "nltk.download('stopwords')\n",
        "nltk.download('punkt_tab') # Download the 'punkt_tab' data\n",
        "\n",
        "# Define stop words and punctuation\n",
        "stop_words = set(stopwords.words('english'))\n",
        "punctuation = set(string.punctuation)\n",
        "\n",
        "# Fonction de nettoyage\n",
        "def clean_text(text):\n",
        "    text = text.lower()\n",
        "    text = ''.join([char for char in text if char not in punctuation and not char.isdigit()])\n",
        "    tokens = word_tokenize(text)\n",
        "    tokens = [word for word in tokens if word not in stop_words]\n",
        "    return ' '.join(tokens)\n",
        "\n",
        "# Apply the cleaning to the text column\n",
        "dataset['CONTENT'] = dataset['CONTENT'].apply(clean_text)\n",
        "\n",
        "# Print cleaned text example\n",
        "print(\"\\nExemple de texte nettoyé :\")\n",
        "print(dataset[['CONTENT']].head()) # Print only the 'CONTENT' column"
      ],
      "metadata": {
        "colab": {
          "base_uri": "https://localhost:8080/"
        },
        "id": "cP1vXJAB18kS",
        "outputId": "c952f77e-dd9f-44d2-874f-38aff72f8583"
      },
      "execution_count": null,
      "outputs": [
        {
          "output_type": "stream",
          "name": "stderr",
          "text": [
            "[nltk_data] Downloading package punkt to /root/nltk_data...\n",
            "[nltk_data]   Unzipping tokenizers/punkt.zip.\n",
            "[nltk_data] Downloading package stopwords to /root/nltk_data...\n",
            "[nltk_data]   Unzipping corpora/stopwords.zip.\n",
            "[nltk_data] Downloading package punkt_tab to /root/nltk_data...\n",
            "[nltk_data]   Unzipping tokenizers/punkt_tab.zip.\n"
          ]
        },
        {
          "output_type": "stream",
          "name": "stdout",
          "text": [
            "\n",
            "Exemple de texte nettoyé :\n",
            "                                             CONTENT\n",
            "0          huh anyway check youtube channel kobyoshi\n",
            "1  hey guys check new channel first vid us monkey...\n",
            "2                                 test say murdevcom\n",
            "3                   shaking sexy ass channel enjoy ﻿\n",
            "4                          watchvvtarggvgtwq check ﻿\n"
          ]
        }
      ]
    },
    {
      "cell_type": "markdown",
      "source": [
        "# **6. Division du dataset**\n",
        "\n",
        "Nous divisons notre datast en deux parties :\n",
        "\n",
        "▶ **Trainning set 80 %**\n",
        "\n",
        "▶ **Test set 20 %**"
      ],
      "metadata": {
        "id": "C9QiFKedPWOv"
      }
    },
    {
      "cell_type": "code",
      "source": [
        "from sklearn.model_selection import train_test_split\n",
        "seed = 123\n",
        "# Séparation des données en ensembles d'entraînement et de test\n",
        "x_train, x_test, y_train, y_test = train_test_split(\n",
        "    dataset['CONTENT'], dataset['CLASS'],\n",
        "    test_size=0.2, random_state = seed\n",
        "    )"
      ],
      "metadata": {
        "id": "csXCB6s_2Bys"
      },
      "execution_count": null,
      "outputs": []
    },
    {
      "cell_type": "markdown",
      "source": [
        "▶ **Trainning set 80 %**"
      ],
      "metadata": {
        "id": "4hOg93AMPjcU"
      }
    },
    {
      "cell_type": "code",
      "source": [
        "x_train.shape"
      ],
      "metadata": {
        "colab": {
          "base_uri": "https://localhost:8080/"
        },
        "id": "9jFsshv120hz",
        "outputId": "6a7c2a9b-0e17-48b3-bc2f-093f8f470030"
      },
      "execution_count": null,
      "outputs": [
        {
          "output_type": "execute_result",
          "data": {
            "text/plain": [
              "(1564,)"
            ]
          },
          "metadata": {},
          "execution_count": 14
        }
      ]
    },
    {
      "cell_type": "code",
      "source": [
        "X_train_vec"
      ],
      "metadata": {
        "colab": {
          "base_uri": "https://localhost:8080/"
        },
        "id": "1J1TcMoEQBf0",
        "outputId": "984bfab8-a961-4db6-c165-93b99a52fe57"
      },
      "execution_count": null,
      "outputs": [
        {
          "output_type": "execute_result",
          "data": {
            "text/plain": [
              "<1564x3434 sparse matrix of type '<class 'numpy.int64'>'\n",
              "\twith 11962 stored elements in Compressed Sparse Row format>"
            ]
          },
          "metadata": {},
          "execution_count": 38
        }
      ]
    },
    {
      "cell_type": "markdown",
      "source": [
        "▶ **Test set 20 %**"
      ],
      "metadata": {
        "id": "XLo1frsvQJce"
      }
    },
    {
      "cell_type": "code",
      "source": [
        "x_test.shape"
      ],
      "metadata": {
        "colab": {
          "base_uri": "https://localhost:8080/"
        },
        "id": "iJeDxvXWQI6M",
        "outputId": "497cc6e5-a97b-435e-ebe3-f37ceb28a135"
      },
      "execution_count": null,
      "outputs": [
        {
          "output_type": "execute_result",
          "data": {
            "text/plain": [
              "(392,)"
            ]
          },
          "metadata": {},
          "execution_count": 39
        }
      ]
    },
    {
      "cell_type": "markdown",
      "source": [
        "# ▶------------------**Vectorisation**----------------------◀\n",
        "\n",
        "Comme nous les savons tous les algorithmes ne tiens pas comme de\n",
        "texte pendant les calculs pour\n",
        "\n",
        "ce faire nous devons transformer les texte en numériques sur base d'un vecteur d'entré.\n",
        "\n",
        "Il existe plusieurs techniques pour le faire en NLP :\n",
        "\n",
        "- **Bag of Words (BoW)** :\n",
        "Qui crée une matrice où chaque ligne représente un document (texte) et chaque colonne un mot unique.\n",
        "Les valeurs sont les fréquences des mots.\n",
        "\n",
        "- **TF-IDF (Term Frequency-Inverse Document Frequency)** : Qui prend en compte la fréquence d’un mot dans un document et réduit l’importance des mots fréquents dans tout le corpus.\n",
        "\n",
        "- **WordEmbeddings Pré-entraînés**: Qui utilise des vecteurs denses comme Word2Vec ou GloVe pour représenter des relations sémantiques entre les mots.\n",
        "\n",
        "**Dans notre cas, nous allons utiliser Bag of word comme méthode de vectorisation.**\n"
      ],
      "metadata": {
        "id": "5PuAfcxkQX6k"
      }
    },
    {
      "cell_type": "markdown",
      "source": [
        "![image.png](data:image/png;base64,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)"
      ],
      "metadata": {
        "id": "4ttpq9A-QfKz"
      }
    },
    {
      "cell_type": "code",
      "source": [
        "from sklearn.feature_extraction.text import CountVectorizer\n",
        "vectorizer = CountVectorizer()\n",
        "X_train_vec = vectorizer.fit_transform(x_train)\n",
        "x_test_vec = vectorizer.transform(x_test)"
      ],
      "metadata": {
        "id": "fIdg1dVa3KNz"
      },
      "execution_count": null,
      "outputs": []
    },
    {
      "cell_type": "code",
      "source": [
        "vectorizer.get_feature_names_out()"
      ],
      "metadata": {
        "colab": {
          "base_uri": "https://localhost:8080/"
        },
        "id": "_UtCwLsa3lqJ",
        "outputId": "fdc38814-5ab2-420c-dc91-4e150d20f3e7"
      },
      "execution_count": null,
      "outputs": [
        {
          "output_type": "execute_result",
          "data": {
            "text/plain": [
              "array(['aaaaaaa', 'abbastfuck', 'ablaze', ...,\n",
              "       'ｈｔｔｐｗｗｗｅｂａｙｃｏｍｕｓｒｓｈｏｅｃｏｌｌｅｃｔｏｒ', 'ｉｓ', 'ｔｈｉｓ'], dtype=object)"
            ]
          },
          "metadata": {},
          "execution_count": 17
        }
      ]
    },
    {
      "cell_type": "code",
      "source": [
        "print(X_train_vec)"
      ],
      "metadata": {
        "colab": {
          "base_uri": "https://localhost:8080/"
        },
        "id": "-oRGDaMACROq",
        "outputId": "355ed378-eda9-4dbc-d50c-3a53c92a3816"
      },
      "execution_count": null,
      "outputs": [
        {
          "output_type": "stream",
          "name": "stdout",
          "text": [
            "  (0, 1829)\t1\n",
            "  (0, 2745)\t2\n",
            "  (0, 2728)\t1\n",
            "  (0, 2940)\t1\n",
            "  (0, 1862)\t1\n",
            "  (0, 397)\t1\n",
            "  (0, 562)\t1\n",
            "  (0, 1596)\t1\n",
            "  (1, 2853)\t1\n",
            "  (1, 416)\t1\n",
            "  (2, 2745)\t2\n",
            "  (2, 2074)\t1\n",
            "  (2, 1036)\t1\n",
            "  (2, 1756)\t1\n",
            "  (2, 1760)\t2\n",
            "  (2, 508)\t1\n",
            "  (2, 1260)\t1\n",
            "  (2, 3369)\t1\n",
            "  (3, 2745)\t1\n",
            "  (3, 232)\t1\n",
            "  (4, 433)\t1\n",
            "  (4, 2273)\t1\n",
            "  (4, 3391)\t1\n",
            "  (5, 433)\t1\n",
            "  (5, 3391)\t1\n",
            "  :\t:\n",
            "  (1558, 321)\t1\n",
            "  (1558, 3307)\t1\n",
            "  (1558, 3366)\t1\n",
            "  (1558, 1037)\t1\n",
            "  (1558, 3419)\t1\n",
            "  (1559, 1276)\t1\n",
            "  (1559, 941)\t1\n",
            "  (1559, 2661)\t1\n",
            "  (1559, 2442)\t1\n",
            "  (1559, 1024)\t1\n",
            "  (1559, 3363)\t1\n",
            "  (1559, 1668)\t1\n",
            "  (1559, 1241)\t1\n",
            "  (1559, 2444)\t1\n",
            "  (1560, 1760)\t1\n",
            "  (1560, 1597)\t1\n",
            "  (1561, 433)\t1\n",
            "  (1561, 3391)\t1\n",
            "  (1561, 3155)\t1\n",
            "  (1562, 433)\t1\n",
            "  (1562, 3391)\t1\n",
            "  (1562, 3155)\t1\n",
            "  (1563, 433)\t1\n",
            "  (1563, 3391)\t1\n",
            "  (1563, 3155)\t1\n"
          ]
        }
      ]
    },
    {
      "cell_type": "markdown",
      "source": [
        "▶ ***Içi nous faisons la Validation croiseée avec 5 Fold pour nous éviter le surapprentissage***"
      ],
      "metadata": {
        "id": "_6W8tc2NQ9Ar"
      }
    },
    {
      "cell_type": "code",
      "source": [
        "from sklearn.model_selection import StratifiedKFold, cross_val_score\n",
        "from sklearn.naive_bayes import MultinomialNB\n",
        "from sklearn.metrics import classification_report, confusion_matrix\n",
        "\n",
        "# Initialiser le modèle\n",
        "model = MultinomialNB()\n",
        "\n",
        "# Initialiser Stratified K-Fold\n",
        "kf = StratifiedKFold(n_splits=5, shuffle=True, random_state=42)\n",
        "\n",
        "# Scores de validation croisée (précision ici)\n",
        "scores = cross_val_score(model, X_train_vec, y_train, cv=kf, scoring='accuracy')\n",
        "\n",
        "print(f\"Scores de validation croisée : {scores}\")\n",
        "print(f\"Précision moyenne : {scores.mean():.2f}\")\n"
      ],
      "metadata": {
        "colab": {
          "base_uri": "https://localhost:8080/"
        },
        "id": "65MEaKKxCXVZ",
        "outputId": "c81b18e8-eb96-4dc0-f594-43af0e38f510"
      },
      "execution_count": null,
      "outputs": [
        {
          "output_type": "stream",
          "name": "stdout",
          "text": [
            "Scores de validation croisée : [0.87220447 0.84664537 0.86900958 0.87220447 0.85897436]\n",
            "Précision moyenne : 0.86\n"
          ]
        }
      ]
    },
    {
      "cell_type": "markdown",
      "source": [
        "# **7. Choix du Modèle et Evaluation**\n",
        "\n",
        "Nous allons construire plusieurs modèles de classification pour détecter les messages indésirables qui sera noté par **1**, ensuite choisir la bonne:\n",
        "\n",
        "- Naïve Bayes\n",
        "\n",
        "- Random Forest\n",
        "\n",
        "- Arbre de décision"
      ],
      "metadata": {
        "id": "rBo_8FxmRr9i"
      }
    },
    {
      "cell_type": "markdown",
      "source": [
        "**1. Random Forest**"
      ],
      "metadata": {
        "id": "-UdANlEYKsen"
      }
    },
    {
      "cell_type": "code",
      "source": [
        "from sklearn.ensemble import RandomForestClassifier\n",
        "rf = RandomForestClassifier(random_state=42)\n",
        "rf.fitted = rf.fit(X_train_vec, y_train)\n",
        "rf.fitted.score(x_test_vec, y_test)"
      ],
      "metadata": {
        "colab": {
          "base_uri": "https://localhost:8080/"
        },
        "id": "LWyOj3U9LvYs",
        "outputId": "54ff0bcd-8950-422d-bd08-3150c60ed0f7"
      },
      "execution_count": null,
      "outputs": [
        {
          "output_type": "execute_result",
          "data": {
            "text/plain": [
              "0.9056122448979592"
            ]
          },
          "metadata": {},
          "execution_count": 35
        }
      ]
    },
    {
      "cell_type": "markdown",
      "source": [
        "Nous testons sur des nouvelles commentaires:\n",
        "\n",
        "- stay with me to have fun on XXX money\n",
        "\n",
        "- very important topic"
      ],
      "metadata": {
        "id": "cB4fEI2nTTRS"
      }
    },
    {
      "cell_type": "code",
      "source": [
        "rf.fitted.predict(vectorizer.transform(['stay with me to have fun on XXX money']))"
      ],
      "metadata": {
        "colab": {
          "base_uri": "https://localhost:8080/"
        },
        "id": "iMavs-n1Jjn2",
        "outputId": "b9776381-1bbd-4f0e-df50-38c5df8511e9"
      },
      "execution_count": null,
      "outputs": [
        {
          "output_type": "execute_result",
          "data": {
            "text/plain": [
              "array([1])"
            ]
          },
          "metadata": {},
          "execution_count": 42
        }
      ]
    },
    {
      "cell_type": "code",
      "source": [
        "rf.fitted.predict(vectorizer.transform(['very important topic']))"
      ],
      "metadata": {
        "colab": {
          "base_uri": "https://localhost:8080/"
        },
        "id": "asWznRpyMI3b",
        "outputId": "3423cdd8-edd5-47af-fd76-a28d65e5058d"
      },
      "execution_count": null,
      "outputs": [
        {
          "output_type": "execute_result",
          "data": {
            "text/plain": [
              "array([0])"
            ]
          },
          "metadata": {},
          "execution_count": 40
        }
      ]
    },
    {
      "cell_type": "markdown",
      "source": [
        "**2. Naive Bayes**"
      ],
      "metadata": {
        "id": "fgFytjAaX4kJ"
      }
    },
    {
      "cell_type": "code",
      "source": [
        "import matplotlib.pyplot as plt\n",
        "import seaborn as sns\n",
        "from sklearn.naive_bayes import MultinomialNB\n",
        "from sklearn.metrics import classification_report, confusion_matrix, ConfusionMatrixDisplay\n",
        "\n",
        "# Naive Bayes\n",
        "model_nb = MultinomialNB()\n",
        "model_nb.fit(X_train_vec, y_train)\n",
        "y_pred_nb = model_nb.predict(x_test_vec)\n",
        "\n",
        "# Génération de la matrice de confusion\n",
        "conf_matrix = confusion_matrix(y_test, y_pred_nb)\n",
        "\n",
        "# Rapport de classification\n",
        "print(\"Classification Report:\")\n",
        "print(classification_report(y_test, y_pred_nb))\n",
        "\n",
        "# Affichage graphique de la matrice de confusion\n",
        "plt.figure(figsize=(6, 4))\n",
        "sns.heatmap(conf_matrix, annot=True, fmt='d', cmap='Blues', xticklabels=model_nb.classes_, yticklabels=model_nb.classes_)\n",
        "plt.title(\"Matrice de confusion - Naive Bayes\")\n",
        "plt.xlabel(\"Prédictions\")\n",
        "plt.ylabel(\"Vérités\")\n",
        "plt.show()"
      ],
      "metadata": {
        "colab": {
          "base_uri": "https://localhost:8080/",
          "height": 584
        },
        "id": "txDtIF5eXg0Y",
        "outputId": "a1892736-3868-4766-a28f-e90e78e99083"
      },
      "execution_count": null,
      "outputs": [
        {
          "output_type": "stream",
          "name": "stdout",
          "text": [
            "Classification Report:\n",
            "              precision    recall  f1-score   support\n",
            "\n",
            "           0       0.94      0.81      0.87       202\n",
            "           1       0.82      0.94      0.88       190\n",
            "\n",
            "    accuracy                           0.87       392\n",
            "   macro avg       0.88      0.87      0.87       392\n",
            "weighted avg       0.88      0.87      0.87       392\n",
            "\n"
          ]
        },
        {
          "output_type": "display_data",
          "data": {
            "text/plain": [
              "<Figure size 600x400 with 2 Axes>"
            ],
            "image/png": "[encoded data removed]"
          },
          "metadata": {}
        }
      ]
    },
    {
      "cell_type": "markdown",
      "source": [
        "**3. Arbre de décision**"
      ],
      "metadata": {
        "id": "Gr_PJGaXSvhK"
      }
    },
    {
      "cell_type": "code",
      "source": [
        "import matplotlib.pyplot as plt\n",
        "import seaborn as sns\n",
        "from sklearn.metrics import classification_report, confusion_matrix\n",
        "\n",
        "# Decision Tree\n",
        "model_dt = DecisionTreeClassifier(random_state=42)\n",
        "model_dt.fit(X_train_vec, y_train)\n",
        "y_pred_dt = model_dt.predict(x_test_vec)\n",
        "\n",
        "# Rapport de classification\n",
        "print(\"Classification Report - Decision Tree:\")\n",
        "print(classification_report(y_test, y_pred_dt))\n",
        "\n",
        "# Génération de la matrice de confusion\n",
        "conf_matrix_dt = confusion_matrix(y_test, y_pred_dt)\n",
        "\n",
        "# Affichage graphique de la matrice de confusion\n",
        "plt.figure(figsize=(6, 4))\n",
        "sns.heatmap(conf_matrix_dt, annot=True, fmt='d', cmap='Oranges', xticklabels=model_dt.classes_, yticklabels=model_dt.classes_)\n",
        "plt.title(\"Matrice de confusion - Decision Tree\")\n",
        "plt.xlabel(\"Prédictions\")\n",
        "plt.ylabel(\"Vérités\")\n",
        "plt.show()"
      ],
      "metadata": {
        "colab": {
          "base_uri": "https://localhost:8080/",
          "height": 584
        },
        "id": "9uyp0zjjK2Gu",
        "outputId": "730b0eaf-3d89-475e-b5dc-cb2ee7d0db98"
      },
      "execution_count": null,
      "outputs": [
        {
          "output_type": "stream",
          "name": "stdout",
          "text": [
            "Classification Report - Decision Tree:\n",
            "              precision    recall  f1-score   support\n",
            "\n",
            "           0       0.87      0.96      0.91       202\n",
            "           1       0.95      0.84      0.89       190\n",
            "\n",
            "    accuracy                           0.90       392\n",
            "   macro avg       0.91      0.90      0.90       392\n",
            "weighted avg       0.91      0.90      0.90       392\n",
            "\n"
          ]
        },
        {
          "output_type": "display_data",
          "data": {
            "text/plain": [
              "<Figure size 600x400 with 2 Axes>"
            ],
            "image/png": "[encoded data removed]"
          },
          "metadata": {}
        }
      ]
    },
    {
      "cell_type": "markdown",
      "source": [
        "# **Test sur de nouvelle valeur**"
      ],
      "metadata": {
        "id": "ceXM3bT-Ztao"
      }
    },
    {
      "cell_type": "markdown",
      "source": [
        "**Nous testons sur des nouvelles commentaires:**\n",
        "\n",
        "- **stay with me to have fun on XXX money**\n",
        "\n",
        "- **very important topic**"
      ],
      "metadata": {
        "id": "AD6poLAwZYvE"
      }
    },
    {
      "cell_type": "code",
      "source": [
        "rf.fitted.predict(vectorizer.transform(['stay with me to have fun on XXX money']))"
      ],
      "metadata": {
        "colab": {
          "base_uri": "https://localhost:8080/"
        },
        "id": "TMr93R1dZjMo",
        "outputId": "342dc619-e646-4385-b37f-aced7720ae3d"
      },
      "execution_count": null,
      "outputs": [
        {
          "output_type": "execute_result",
          "data": {
            "text/plain": [
              "array([1])"
            ]
          },
          "metadata": {},
          "execution_count": 56
        }
      ]
    },
    {
      "cell_type": "code",
      "source": [
        "rf.fitted.predict(vectorizer.transform(['very important topic']))"
      ],
      "metadata": {
        "colab": {
          "base_uri": "https://localhost:8080/"
        },
        "id": "XZWLb91RZqyv",
        "outputId": "01eb64bb-8a7a-47f4-d81d-b61c87c6fa82"
      },
      "execution_count": null,
      "outputs": [
        {
          "output_type": "execute_result",
          "data": {
            "text/plain": [
              "array([0])"
            ]
          },
          "metadata": {},
          "execution_count": 57
        }
      ]
    },
    {
      "cell_type": "markdown",
      "source": [
        "# **8. Concluson**\n",
        "\n",
        "**le modèle Naive Bayes est le plus adapté, car il offre un rappel élevé de 94% pour la classe des spams, indiquant qu'il identifie presque tous les spams correctement. Bien que sa précision globale soit légèrement inférieure à celle de Random Forest et Decision Tree, sa capacité à minimiser les faux négatifs en fait un choix optimal pour une tâche axée sur la détection des spams.**"
      ],
      "metadata": {
        "id": "rC4yidKbV7Pr"
      }
    }
  ]
}